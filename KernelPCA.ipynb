{
 "cells": [
  {
   "cell_type": "markdown",
   "id": "675da095-ab77-4146-91b8-1edc1700a28d",
   "metadata": {},
   "source": [
    "### Kernel PCA and Clustering\n",
    "\n",
    "The purpose of this notebook is to check if the data is nonlinerarly separable. Initial clustering suggests poor fit using classical PCA."
   ]
  },
  {
   "cell_type": "code",
   "execution_count": 1,
   "id": "8a9f35f5-b0d2-4efc-b723-4c1b5ec476fd",
   "metadata": {},
   "outputs": [],
   "source": [
    "import numpy as np\n",
    "import pandas as pd\n",
    "from sklearn.decomposition import KernelPCA\n",
    "from sklearn.cluster import DBSCAN\n",
    "from sklearn.mixture import GaussianMixture\n",
    "from sklearn import metrics\n",
    "import seaborn as sns\n",
    "import matplotlib.pyplot as plt\n",
    "from sklearn.model_selection import train_test_split, GridSearchCV\n",
    "from sklearn.pipeline import Pipeline"
   ]
  },
  {
   "cell_type": "markdown",
   "id": "ddc5c9d4-0758-4f82-bbdf-16617f31fe5d",
   "metadata": {},
   "source": [
    "Unfortunately, a full KernelPCA requires 428 GB of memory. We take a random $\\frac{1}{12}$ of our data with a set seed and write the data to a file in order to speed up potential future runs."
   ]
  },
  {
   "cell_type": "code",
   "execution_count": 2,
   "id": "fbc49794-e225-4ce1-85d8-85803d48d860",
   "metadata": {},
   "outputs": [],
   "source": [
    "# # Reading data\n",
    "\n",
    "# flattened_data = pd.read_csv(\"processed_galaxy_data/flattened_normalized_images.csv\", header = None)\n",
    "# labels = pd.read_csv(\"processed_galaxy_data/labels_mappings_filtered.csv\")\n",
    "\n",
    "# # Subsetting data\n",
    "\n",
    "# subset_data = flattened_data.sample(frac = 0.08, random_state = 42)\n",
    "# subset_labels = pd.DataFrame(np.array(labels[\"shape_label\"])[np.array(subset_data.index)])\n",
    "\n",
    "# # Writing data to files.\n",
    "\n",
    "# np.savetxt('processed_galaxy_data/kpca_subset.csv', subset_data, delimiter=',')\n",
    "# subset_labels.to_csv(\"processed_galaxy_data/kpca_labels.csv\", index = False)"
   ]
  },
  {
   "cell_type": "code",
   "execution_count": 5,
   "id": "70d5b069-72ab-4267-9ccd-87c391906706",
   "metadata": {},
   "outputs": [],
   "source": [
    "#fitted_kernel_pca = KernelPCA(kernel = \"rbf\")\n",
    "#fitted_kernel_pca.fit_transform(subset_data)"
   ]
  },
  {
   "cell_type": "markdown",
   "id": "3efe929d-c3f9-4baf-b2cd-57814c1e89d9",
   "metadata": {},
   "source": [
    "Next, we need to see how many PCs of the kernel transform we need. Similar to PCA, we pick a value that is above 90%."
   ]
  },
  {
   "cell_type": "code",
   "execution_count": 17,
   "id": "a16ce640-b910-42f4-b28b-d7018e3d87cb",
   "metadata": {},
   "outputs": [
    {
     "data": {
      "text/plain": [
       "(array([   66,    67,    68, ..., 19162, 19163, 19164], dtype=int64),)"
      ]
     },
     "execution_count": 17,
     "metadata": {},
     "output_type": "execute_result"
    },
    {
     "data": {
      "image/png": "[encoded data removed]",
      "text/plain": [
       "<Figure size 640x480 with 1 Axes>"
      ]
     },
     "metadata": {},
     "output_type": "display_data"
    }
   ],
   "source": [
    "variance_array = np.cumsum(fitted_kernel_pca.eigenvalues_) / np.sum(fitted_kernel_pca.eigenvalues_)\n",
    "plt.plot(variance_array)\n",
    "np.where(variance_array > 0.9)"
   ]
  },
  {
   "cell_type": "markdown",
   "id": "cbaa37c9-960c-4a4a-8972-682240b393e0",
   "metadata": {},
   "source": [
    "We set `n_components = 66` and comment out the full KernelPCA code. We can then rerun the algorithm using this new parameter to fit our data. Similarly, we write the data to a file."
   ]
  },
  {
   "cell_type": "code",
   "execution_count": 9,
   "id": "a77415e4-6270-46da-9bbf-26536d4c9ded",
   "metadata": {},
   "outputs": [],
   "source": [
    "# # Rerunning kPCA, fitting our data, and writing to file.\n",
    "\n",
    "# fitted_kernel_pca = KernelPCA(kernel = \"rbf\", n_components = 66)\n",
    "# kpca_data = fitted_kernel_pca.fit_transform(subset_data)\n",
    "# np.savetxt('processed_galaxy_data/kernel_pca_normalized.csv', kpca_data, delimiter=',')"
   ]
  },
  {
   "cell_type": "markdown",
   "id": "08b9dd80-54bb-4d8a-bca3-af73cf844395",
   "metadata": {
    "scrolled": true
   },
   "source": [
    "Now that we have our data represented in a new vector space, let's see if clustering can produce some stronger results. Let's try a GridSearch for DBSCAN to see if any set of hyperparameters create a suitable model."
   ]
  },
  {
   "cell_type": "code",
   "execution_count": 4,
   "id": "a5dbf9b4-97b8-43eb-9efc-4022c6cd85b5",
   "metadata": {},
   "outputs": [],
   "source": [
    "kpca_data = pd.read_csv(\"processed_galaxy_data/kernel_pca_normalized.csv\", header = None)\n",
    "subset_labels = pd.read_csv(\"processed_galaxy_data/kpca_labels.csv\")"
   ]
  },
  {
   "cell_type": "code",
   "execution_count": 56,
   "id": "4e84b4bd-1948-4437-9cdd-1e7117cd915c",
   "metadata": {},
   "outputs": [],
   "source": [
    "samples = [5, 10]\n",
    "epsilon = np.arange(0.001, 0.15, 0.005)\n",
    "dbs_ari = pd.DataFrame(index = samples, columns = epsilon)\n",
    "for sample in samples:\n",
    "    for epsi in epsilon:\n",
    "        dbs = DBSCAN(min_samples = sample, eps = epsi)\n",
    "        y_labels = dbs.fit(kpca_data).labels_\n",
    "        dbs_ari.loc[sample, epsi] = metrics.adjusted_rand_score(subset_labels[\"0\"], y_labels)"
   ]
  },
  {
   "cell_type": "code",
   "execution_count": 57,
   "id": "87bd494f-7066-4091-ab5f-7fa85c5c8c4c",
   "metadata": {},
   "outputs": [
    {
     "data": {
      "text/html": [
       "<div>\n",
       "<style scoped>\n",
       "    .dataframe tbody tr th:only-of-type {\n",
       "        vertical-align: middle;\n",
       "    }\n",
       "\n",
       "    .dataframe tbody tr th {\n",
       "        vertical-align: top;\n",
       "    }\n",
       "\n",
       "    .dataframe thead th {\n",
       "        text-align: right;\n",
       "    }\n",
       "</style>\n",
       "<table border=\"1\" class=\"dataframe\">\n",
       "  <thead>\n",
       "    <tr style=\"text-align: right;\">\n",
       "      <th></th>\n",
       "      <th>0.001</th>\n",
       "      <th>0.006</th>\n",
       "      <th>0.011</th>\n",
       "      <th>0.016</th>\n",
       "      <th>0.021</th>\n",
       "      <th>0.026</th>\n",
       "      <th>0.031</th>\n",
       "      <th>0.036</th>\n",
       "      <th>0.041</th>\n",
       "      <th>0.046</th>\n",
       "      <th>...</th>\n",
       "      <th>0.101</th>\n",
       "      <th>0.106</th>\n",
       "      <th>0.111</th>\n",
       "      <th>0.116</th>\n",
       "      <th>0.121</th>\n",
       "      <th>0.126</th>\n",
       "      <th>0.131</th>\n",
       "      <th>0.136</th>\n",
       "      <th>0.141</th>\n",
       "      <th>0.146</th>\n",
       "    </tr>\n",
       "  </thead>\n",
       "  <tbody>\n",
       "    <tr>\n",
       "      <th>5</th>\n",
       "      <td>0.0</td>\n",
       "      <td>0.0</td>\n",
       "      <td>0.0</td>\n",
       "      <td>0.000345</td>\n",
       "      <td>0.001033</td>\n",
       "      <td>0.000552</td>\n",
       "      <td>-0.000253</td>\n",
       "      <td>-0.00128</td>\n",
       "      <td>-0.002146</td>\n",
       "      <td>-0.001058</td>\n",
       "      <td>...</td>\n",
       "      <td>-0.000913</td>\n",
       "      <td>-0.000962</td>\n",
       "      <td>-0.000862</td>\n",
       "      <td>-0.000631</td>\n",
       "      <td>-0.000511</td>\n",
       "      <td>-0.000326</td>\n",
       "      <td>-0.000299</td>\n",
       "      <td>-0.000187</td>\n",
       "      <td>-0.000187</td>\n",
       "      <td>-0.000085</td>\n",
       "    </tr>\n",
       "    <tr>\n",
       "      <th>10</th>\n",
       "      <td>0.0</td>\n",
       "      <td>0.0</td>\n",
       "      <td>0.0</td>\n",
       "      <td>0.000235</td>\n",
       "      <td>0.001507</td>\n",
       "      <td>0.000754</td>\n",
       "      <td>-0.000258</td>\n",
       "      <td>-0.001317</td>\n",
       "      <td>-0.001714</td>\n",
       "      <td>-0.000959</td>\n",
       "      <td>...</td>\n",
       "      <td>-0.000666</td>\n",
       "      <td>-0.000947</td>\n",
       "      <td>-0.000901</td>\n",
       "      <td>-0.000762</td>\n",
       "      <td>-0.000552</td>\n",
       "      <td>-0.000349</td>\n",
       "      <td>-0.000329</td>\n",
       "      <td>-0.000244</td>\n",
       "      <td>-0.000208</td>\n",
       "      <td>-0.000133</td>\n",
       "    </tr>\n",
       "  </tbody>\n",
       "</table>\n",
       "<p>2 rows × 30 columns</p>\n",
       "</div>"
      ],
      "text/plain": [
       "   0.001 0.006 0.011     0.016     0.021     0.026     0.031     0.036  \\\n",
       "5    0.0   0.0   0.0  0.000345  0.001033  0.000552 -0.000253  -0.00128   \n",
       "10   0.0   0.0   0.0  0.000235  0.001507  0.000754 -0.000258 -0.001317   \n",
       "\n",
       "       0.041     0.046  ...     0.101     0.106     0.111     0.116     0.121  \\\n",
       "5  -0.002146 -0.001058  ... -0.000913 -0.000962 -0.000862 -0.000631 -0.000511   \n",
       "10 -0.001714 -0.000959  ... -0.000666 -0.000947 -0.000901 -0.000762 -0.000552   \n",
       "\n",
       "       0.126     0.131     0.136     0.141     0.146  \n",
       "5  -0.000326 -0.000299 -0.000187 -0.000187 -0.000085  \n",
       "10 -0.000349 -0.000329 -0.000244 -0.000208 -0.000133  \n",
       "\n",
       "[2 rows x 30 columns]"
      ]
     },
     "execution_count": 57,
     "metadata": {},
     "output_type": "execute_result"
    }
   ],
   "source": [
    "dbs_ari"
   ]
  },
  {
   "cell_type": "code",
   "execution_count": 58,
   "id": "214749aa-19b8-46aa-9c7c-3f5292d83e3b",
   "metadata": {},
   "outputs": [
    {
     "data": {
      "text/plain": [
       "0.001         0.0\n",
       "0.006         0.0\n",
       "0.011         0.0\n",
       "0.016    0.000345\n",
       "0.021    0.001507\n",
       "0.026    0.000754\n",
       "0.031   -0.000253\n",
       "0.036    -0.00128\n",
       "0.041   -0.001714\n",
       "0.046   -0.000959\n",
       "0.051    -0.00099\n",
       "0.056   -0.001314\n",
       "0.061   -0.001138\n",
       "0.066   -0.001495\n",
       "0.071   -0.001892\n",
       "0.076   -0.001636\n",
       "0.081   -0.000838\n",
       "0.086   -0.000561\n",
       "0.091   -0.000895\n",
       "0.096   -0.000879\n",
       "0.101   -0.000666\n",
       "0.106   -0.000947\n",
       "0.111   -0.000862\n",
       "0.116   -0.000631\n",
       "0.121   -0.000511\n",
       "0.126   -0.000326\n",
       "0.131   -0.000299\n",
       "0.136   -0.000187\n",
       "0.141   -0.000187\n",
       "0.146   -0.000085\n",
       "dtype: object"
      ]
     },
     "execution_count": 58,
     "metadata": {},
     "output_type": "execute_result"
    }
   ],
   "source": [
    "dbs_ari.max()"
   ]
  },
  {
   "cell_type": "markdown",
   "id": "32a17d02-18b3-4975-adfd-1619e089d1c7",
   "metadata": {},
   "source": [
    "DBSCAN, even after KernelPCA, is not performing well. What about Gaussian Mixture Models?"
   ]
  },
  {
   "cell_type": "code",
   "execution_count": 60,
   "id": "336fd703-0955-4466-9bfe-4034d43fd77e",
   "metadata": {},
   "outputs": [],
   "source": [
    "gmm = GaussianMixture(n_components = 4)\n",
    "pipe_gmm = Pipeline([\n",
    "    (\"gmm\", gmm)\n",
    "])\n",
    "param_grid_gmm = {\n",
    "    \"gmm__covariance_type\": [\"full\", \"tied\", \"spherical\", \"diag\"]\n",
    "}\n",
    "grid_gmm = GridSearchCV(pipe_gmm, param_grid_gmm, scoring = \"adjusted_rand_score\")"
   ]
  },
  {
   "cell_type": "code",
   "execution_count": 62,
   "id": "681587a9-b5ef-4744-bf65-d12727b01bdc",
   "metadata": {},
   "outputs": [
    {
     "name": "stderr",
     "output_type": "stream",
     "text": [
      "C:\\Users\\jalen\\anaconda3\\envs\\COGS118B_WI24\\lib\\site-packages\\sklearn\\mixture\\_base.py:268: ConvergenceWarning: Initialization 1 did not converge. Try different init parameters, or increase max_iter, tol or check for degenerate data.\n",
      "  warnings.warn(\n"
     ]
    }
   ],
   "source": [
    "fitted_gmm = grid_gmm.fit(kpca_data, subset_labels[\"0\"])"
   ]
  },
  {
   "cell_type": "code",
   "execution_count": 63,
   "id": "366cace3-450b-4d19-862d-936f92b628b8",
   "metadata": {},
   "outputs": [
    {
     "data": {
      "text/html": [
       "<div>\n",
       "<style scoped>\n",
       "    .dataframe tbody tr th:only-of-type {\n",
       "        vertical-align: middle;\n",
       "    }\n",
       "\n",
       "    .dataframe tbody tr th {\n",
       "        vertical-align: top;\n",
       "    }\n",
       "\n",
       "    .dataframe thead th {\n",
       "        text-align: right;\n",
       "    }\n",
       "</style>\n",
       "<table border=\"1\" class=\"dataframe\">\n",
       "  <thead>\n",
       "    <tr style=\"text-align: right;\">\n",
       "      <th></th>\n",
       "      <th>gmm__covariance_type</th>\n",
       "      <th>Mean Adjusted Rand Index</th>\n",
       "    </tr>\n",
       "  </thead>\n",
       "  <tbody>\n",
       "    <tr>\n",
       "      <th>0</th>\n",
       "      <td>full</td>\n",
       "      <td>-0.000728</td>\n",
       "    </tr>\n",
       "    <tr>\n",
       "      <th>1</th>\n",
       "      <td>tied</td>\n",
       "      <td>-0.000651</td>\n",
       "    </tr>\n",
       "    <tr>\n",
       "      <th>2</th>\n",
       "      <td>spherical</td>\n",
       "      <td>-0.000275</td>\n",
       "    </tr>\n",
       "    <tr>\n",
       "      <th>3</th>\n",
       "      <td>diag</td>\n",
       "      <td>-0.001325</td>\n",
       "    </tr>\n",
       "  </tbody>\n",
       "</table>\n",
       "</div>"
      ],
      "text/plain": [
       "  gmm__covariance_type  Mean Adjusted Rand Index\n",
       "0                 full                 -0.000728\n",
       "1                 tied                 -0.000651\n",
       "2            spherical                 -0.000275\n",
       "3                 diag                 -0.001325"
      ]
     },
     "execution_count": 63,
     "metadata": {},
     "output_type": "execute_result"
    }
   ],
   "source": [
    "results_gmm = pd.DataFrame(grid_gmm.cv_results_['params'] )\n",
    "results_gmm['Mean Adjusted Rand Index'] = grid_gmm.cv_results_['mean_test_score']\n",
    "results_gmm.head()"
   ]
  },
  {
   "cell_type": "markdown",
   "id": "5c4ba46c-eadc-464e-aa7a-79a8e400f713",
   "metadata": {},
   "source": [
    "GMMs do not perform well on kerneled data, either. Our procedures would seem to suggest that the data structure is too noisy, dense, or overlapping, even after projecting to higher dimensions."
   ]
  }
 ],
 "metadata": {
  "kernelspec": {
   "display_name": "Python 3 (ipykernel)",
   "language": "python",
   "name": "python3"
  },
  "language_info": {
   "codemirror_mode": {
    "name": "ipython",
    "version": 3
   },
   "file_extension": ".py",
   "mimetype": "text/x-python",
   "name": "python",
   "nbconvert_exporter": "python",
   "pygments_lexer": "ipython3",
   "version": "3.9.5"
  }
 },
 "nbformat": 4,
 "nbformat_minor": 5
}
