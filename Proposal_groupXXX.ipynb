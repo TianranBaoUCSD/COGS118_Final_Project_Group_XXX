{
 "cells": [
  {
   "cell_type": "markdown",
   "metadata": {},
   "source": [
    "# COGS 118B - Project Proposal"
   ]
  },
  {
   "cell_type": "markdown",
   "metadata": {},
   "source": [
    "# Names\n",
    "\n",
    "- Kian Chou\n",
    "- Jalen Li\n",
    "- Hana Tse\n",
    "- Arturo Sorensen\n",
    "- Tianran Bao\n"
   ]
  },
  {
   "cell_type": "markdown",
   "metadata": {},
   "source": [
    "# Abstract \n",
    "In this project, we attempt to classify galaxies into categories based on their visual features. To achieve this, we will use images of galaxies from Galaxy Zoo, along with crowd-sourced labels that identify the type of galaxy within a given image. We will perform dimensionality reduction on the images in order to effectively retain features and build a model that utilizes those features (e.g. shape and color) to cluster the galaxies into distinct categories. Success will be measured by how accurately our model can identify the type of galaxy in a given image. We will compare the results of our model to the crowd-sourced labels for the images. \n"
   ]
  },
  {
   "cell_type": "markdown",
   "metadata": {},
   "source": [
    "# Background\n",
    "\n",
    "Galaxies are fascinating astronomical objects that are extremely numerous and diverse - it’s estimated that there are billions or even possibly trillions of galaxies in the observable universe, each with unique properties/features. They vary in size from being ultra massive to relatively small, with a multitude of shapes such as elliptical (appears as a concentrated elliptic blob), spiral (has a circular twist and arms), and irregular (sparse and not as structured). Some are young and actively growing whereas others are ancient and dormant. As mentioned in our proposed solution, color and luminosity can vary as well. Luminosity can be affected by its age, metallicity, component stars, dust content, distance from the observer, etc. On the other hand, color not only can be affected by composition, but also by redshift; as the universe expands at an accelerated rate, the objects that are farther from us recede faster, which creates a phenomenon called redshift in which the light’s wavelength is stretched (since the universe itself is expanding) and appears redder.\n",
    "\n",
    "The diversity galaxies offer makes them excellent subjects for image classification and exploratory study. Due to this, in recent years, the field of galaxy classification through machine learning not only has seen advancements, but has also greatly helped researchers study these astronomical bodies. Galaxy Zoo is a project that provided visual morphological classification based off of galaxy images from the Sloan Digital Sky Survey (SDSS)<a name=\"lintottnote\"></a>[<sup>[1]</sup>](#lintott). The first Galaxy Zoo paper’s aim was to \n",
    "distinguish between the two morphological classes pertaining to massive systems, namely spirals and early-type systems<a name=\"lintottnote\"></a>[<sup>[1]</sup>](#lintott). \n",
    "\n",
    "Galaxy Zoo 2<a name=\"zoo2\"></a>[<sup>[2]</sup>](#zoo2), which is the data we are using, is a succeeding project that considers more detailed morphological features such as \"galactic bars, spiral arm and pitch angle, bulges, edge-on galaxies, relative ellipticities, and many others\"<a name=\"zoosite\"></a>[<sup>[3]</sup>](#zoosite). Moreover, galactic bars refer to the elongated structures composed of stars and interstellar matter that extend from the center of spiral galaxies; pitch angle measures the tightness of spiral arms around a galaxy’s center; bulges are the tightly packed collections of stars at the centers of galaxies; edge-on means observed from the side, which would make the bulge more visible; and relative ellipticity is the galaxy’s deviation from a circular shape.\n",
    "\n",
    "\"There has been much research dedicated to classifying galaxy image data with convolutional neural networks (CNNs), including Huertas et al. using the Cosmic Assembly Near-Infrared Deep Extragalactic Legacy Survey (CANDELS) data to classify over a range of redshifts<a name=\"huertas\"></a>[<sup>[4]</sup>](#huertas). In a similar vein, we will be classifying galaxy image data, but it’s important to note that this isn’t the only way. For example, Krakowski et al. applied a support vector machine (SVM) to tabular data from the WISE × SuperCOSMOS catalog<a name=\"krakowski\"></a>[<sup>[5]</sup>](#krakowski)."
   ]
  },
  {
   "cell_type": "markdown",
   "metadata": {},
   "source": [
    "# Problem Statement\n",
    "\n",
    "Galaxies have a couple of different visual features, including shape, color, luminosity, and concentration. There are a few different ways that galaxies are classified, but the system we will be sticking to will use their morphology. There are 3 main categories of galaxies: elliptical, spiral, and irregular. \n",
    "\n",
    "The problem that we aim to solve is classifying galaxies based on visual features from images of them. For this, we will be analyzing each of the images and use unsupervised learning techniques to categorize them into groups of similar galaxy types. This problem can be measured in the following two ways. We can either choose to use the crowd-sourced labels in our dataset or we can calculate some score between galaxies that are grouped as a similarity metric.\n"
   ]
  },
  {
   "cell_type": "markdown",
   "metadata": {},
   "source": [
    "# Data\n",
    "Image Data: https://zenodo.org/records/3565489#.Y3vFKS-l0eY<br>\n",
    "Label Data: https://data.galaxyzoo.org/#section-7\n",
    "\n",
    "These two datasets combined have 239,695 galaxy images and labels, with each image having 6 variables of interest - the x and y position of each pixel, the RGB values of each pixel, and the true label. The x, y, and RGB values make up the image, while the label describes the galaxy’s type and shape. The label data was gathered by a vote from a collection of volunteers who used the GalaxyZoo website to help classify the galaxies. The label data also contains a fair amount of other variables that we will not need, like the location of the galaxy and the raw voting results from the GalaxyZoo campaign. \n",
    "\n",
    "One observation consists of a grainy color image of a target galaxy centered in a 424x424 pixel image. This image can also contain other, smaller galaxies which could prove to be a difficult issue to overcome. \n",
    "\n",
    "The critical variables from this dataset would be the x and y values of each pixel, as being able to extract the features from each galaxy and classify what type and shape from each galaxy is. The RGB values of each image may also prove to be important, as different galaxies tend to have different colors in this dataset. \n",
    "\n",
    "First, the label data would have to be cleaned to only include the critical 6 variables we are interested in. Additionally, depending on the computing resources at hand, we may have to scale down the images to make sure that calculations are completed within a reasonable time. We may also have to normalize the RGB values of each pixel.\n"
   ]
  },
  {
   "cell_type": "markdown",
   "metadata": {},
   "source": [
    "# Proposed Solution\n",
    "\n",
    "The principal problem we aim to tackle for this project is the classification of galaxies through features in their images.\n",
    "\n",
    "The morphology of galaxy types in images involves variance in several properties, such as color, luminosity, and distribution of pixels. This type of variance can be captured in an initial application of dimensionality reduction. Once a large amount of variance can be explained in a handful of dimensions, algorithms such as K-means, DBSCAN, or hierarchical clustering can be used to predict what morphology a galaxy belongs to.\n"
   ]
  },
  {
   "cell_type": "markdown",
   "metadata": {},
   "source": [
    "# Evaluation Metrics\n",
    "\n",
    "The Galaxy Zoo project, from which our data is obtained, has crowd-sourced labels for each galaxy. Each label is derived from a contribution of around 100,000 volunteers, reducing biases and ultimately providing a robust, confident classification<a name=\"lintott\"></a>[<sup>[1]</sup>](#lintottnote). We can measure the efficacy of our model by looking at the accuracy of our model, as well as its associated error rates. Because of the low-stakes nature of our project, it isn’t necessary to consider how “wrong” a prediction is. A rather simple formula of (number of correct predictions) / (number of predictions) will be sufficient to see how well the model does.\n"
   ]
  },
  {
   "cell_type": "markdown",
   "metadata": {},
   "source": [
    "# Ethics & Privacy"
   ]
  },
  {
   "cell_type": "markdown",
   "metadata": {},
   "source": [
    "The dataset that we used contains images and labels that are provided publicly by Galaxy Zoo. Since this data is public and does not pertain to any individuals, it does not present any privacy concerns. Similarly, the aim of our project does not pose any privacy concerns, as our focus was to classify galaxy types using this data. \n",
    "\n",
    "However, there is an ethical concern regarding misinformation. The labels for the images in our dataset are crowdsourced, which has potential for bias. The volunteers that contribute to the labels come from various backgrounds with different levels of experience, so different people might label certain images differently. As a result, there is a risk that the data might not be entirely accurate. In turn, the results of our model may not be accurate either. Therefore, people who view our project should keep in mind that our model might not classify each image correctly and should consider using other sources to verify information that is presented. \n"
   ]
  },
  {
   "cell_type": "markdown",
   "metadata": {},
   "source": [
    "# Team Expectations "
   ]
  },
  {
   "cell_type": "markdown",
   "metadata": {},
   "source": [
    "* Team Expectation 1: We will respect each other’s ideas and opinions \n",
    "* Team Expectation 2: We will communicate if there are any difficulties or concerns\n",
    "* Team Expectation 3: We will make decisions as a team\n",
    "* Team Expectation 4: We will help each other when needed\n",
    "* Team Expectation 5: We will meet deadlines on time \n",
    "* Team Expectation 6: We will distribute work fairly based on interest/workload \n",
    "* Team Expectation 7: We will message to plan meetings, discuss progress, etc. \n"
   ]
  },
  {
   "cell_type": "markdown",
   "metadata": {},
   "source": [
    "# Project Timeline Proposal"
   ]
  },
  {
   "cell_type": "markdown",
   "metadata": {},
   "source": [
    "Replace this with something meaningful that is appropriate for your needs. It doesn't have to be something that fits this format.  It doesn't have to be set in stone... \"no battle plan survives contact with the enemy\". But you need a battle plan nonetheless, and you need to keep it updated so you understand what you are trying to accomplish, who's responsible for what, and what the expected due dates are for each item.\n",
    "\n",
    "| Meeting Date  | Meeting Time| Completed Before Meeting  | Discuss at Meeting |\n",
    "|---|---|---|---|\n",
    "| 2/16  | 7 PM  | Brainstorm topics/questions, search for datasets  | Determine best form of communication; Discuss and decide on final project topic; discuss hypothesis; begin background research | \n",
    "| 2/20  | 6 PM  | Edit, finalize, and submit proposal | Discuss Wrangling and possible analytical approaches | \n",
    "| 2/27  | 8 PM  | Import & Wrangle Data, do some EDA | Review/Edit wrangling/EDA; Discuss Analysis Plan  |\n",
    "| 3/5   | 7 PM  | Finalize wrangling/EDA; Begin programming for project  | Discuss/edit project code; Complete project |\n",
    "| 3/13  | 5 PM  | Complete analysis; Draft results/conclusion/discussion  | Discuss/edit full project |\n",
    "| 3/19  | Before 11:59 PM  | NA | Turn in Final Project |\n"
   ]
  },
  {
   "cell_type": "markdown",
   "metadata": {},
   "source": [
    "# Footnotes\n",
    "<a name=\"lintottnote\"></a>1.[^](#lintott): Lintott, Chris J., et al. (Sept 2008) Galaxy Zoo: morphologies derived from visual inspection of galaxies from the Sloan Digital Sky Survey. *Monthly Notices of the Royal Astronomical Society*. https://ui.adsabs.harvard.edu/abs/2008MNRAS.389.1179L<br>\n",
    "<a name=\"zoo2\"></a>2.[^](#zoo2): Willett, Kyle W., et al. (Nov 2013) Galaxy Zoo 2: Images from Original Sample. *Monthly Notices of the Royal Astronomical Society*. https://zenodo.org/records/3565489<br>\n",
    "<a name=\"zoosite\"></a>3.[^](#zoosite): Galaxy Zoo 2, https://data.galaxyzoo.org/#section-7<br>\n",
    "<a name=\"huertas\"></a>4.[^](#huertas): Huertas, M., et al. (Nov 2015) A Catalog of Visual-Like Morphologies in the 5 CANDELS Fields Using Deep Learning. *The Astrophysical Journal*. https://iopscience.iop.org/article/10.1088/0067-0049/221/1/8/pdf<br>\n",
    "<a name=\"krakowski\"></a>5.[^](#krakowski): Krakowski, T., et al. (Aug 2016) Machine-learning identification of galaxies in the WISE x SuperCOSMOS all-sky catalogue. *Astronomy & Astrophysics*. https://www.aanda.org/articles/aa/pdf/2016/12/aa29165-16.pdf<br>\n"
   ]
  },
  {
   "cell_type": "code",
   "execution_count": null,
   "metadata": {},
   "outputs": [],
   "source": []
  }
 ],
 "metadata": {
  "kernelspec": {
   "display_name": "Python 3 (ipykernel)",
   "language": "python",
   "name": "python3"
  },
  "language_info": {
   "codemirror_mode": {
    "name": "ipython",
    "version": 3
   },
   "file_extension": ".py",
   "mimetype": "text/x-python",
   "name": "python",
   "nbconvert_exporter": "python",
   "pygments_lexer": "ipython3",
   "version": "3.10.0"
  }
 },
 "nbformat": 4,
 "nbformat_minor": 2
}
